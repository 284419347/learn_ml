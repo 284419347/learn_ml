{
 "cells": [
  {
   "cell_type": "code",
   "execution_count": 1,
   "metadata": {
    "ExecuteTime": {
     "end_time": "2018-07-25T07:45:21.010360Z",
     "start_time": "2018-07-25T07:45:20.233401Z"
    }
   },
   "outputs": [],
   "source": [
    "import paddle.fluid as fluid\n",
    "import paddle\n",
    "import numpy as np\n",
    "from paddle.fluid.debugger import draw_block_graphviz"
   ]
  },
  {
   "cell_type": "markdown",
   "metadata": {},
   "source": [
    "## Shared params"
   ]
  },
  {
   "cell_type": "code",
   "execution_count": 2,
   "metadata": {
    "ExecuteTime": {
     "end_time": "2018-07-25T07:45:21.038688Z",
     "start_time": "2018-07-25T07:45:21.014476Z"
    }
   },
   "outputs": [],
   "source": [
    "dataset = [\n",
    "    [np.random.random(size=(128, 3, 10, 10)).astype('float32'), np.ones((128,1)).astype('float32')],\n",
    "    [np.random.random(size=(128, 3, 24, 24)).astype('float32'), np.ones((128,1)).astype('float32')],\n",
    "    [np.random.random(size=(128, 3, 48, 48)).astype('float32'), np.ones((128,1)).astype('float32')],\n",
    "]"
   ]
  },
  {
   "cell_type": "code",
   "execution_count": 3,
   "metadata": {
    "ExecuteTime": {
     "end_time": "2018-07-25T07:45:21.087931Z",
     "start_time": "2018-07-25T07:45:21.041423Z"
    }
   },
   "outputs": [],
   "source": [
    "# Name all param_attr and bias_attr to share params\n",
    "def shared_net(image):\n",
    "    y = fluid.layers.conv2d(name=\"conv2d\", input=image, num_filters=3, filter_size=3, act='relu', param_attr='conv2d_w', bias_attr='conv2d_b')\n",
    "    y = fluid.layers.pool2d(name=\"pool2d\", input=y, pool_size=y.shape[2:])\n",
    "    y = fluid.layers.fc(name='predict', input=y, size=1, param_attr='fc_w', bias_attr='fc_b')\n",
    "    return y"
   ]
  },
  {
   "cell_type": "code",
   "execution_count": 4,
   "metadata": {
    "ExecuteTime": {
     "end_time": "2018-07-25T07:45:21.155043Z",
     "start_time": "2018-07-25T07:45:21.091939Z"
    }
   },
   "outputs": [],
   "source": [
    "def train_net(name, shape):\n",
    "    # Different program for diffent input size\n",
    "    program = fluid.Program()\n",
    "    with fluid.program_guard(program):\n",
    "        label = fluid.layers.data(name='label' + name, shape=[1], dtype='float32')\n",
    "        image = fluid.layers.data(name='image' + name, shape=shape, dtype='float32')\n",
    "        predict = shared_net(image)\n",
    "        infer_program = program.clone(for_test=True)\n",
    "        cost = fluid.layers.square_error_cost(input=predict, label=label)\n",
    "        avg_cost = fluid.layers.mean(cost)\n",
    "        return image, label, predict, avg_cost, program, infer_program"
   ]
  },
  {
   "cell_type": "code",
   "execution_count": 5,
   "metadata": {
    "ExecuteTime": {
     "end_time": "2018-07-25T07:45:21.285207Z",
     "start_time": "2018-07-25T07:45:21.159079Z"
    }
   },
   "outputs": [],
   "source": [
    "# Different program and optimizer for diffent input size\n",
    "image1, label1, predict1, avg_cost1, train_program1, infer_program1 = train_net(\"1\", [3,10,10])\n",
    "image2, label2, predict2, avg_cost2, train_program2, infer_program2 = train_net(\"2\", [3,24,24])\n",
    "image3, label3, predict3, avg_cost3, train_program3, infer_program3 = train_net(\"3\", [3,48,48])\n",
    "\n",
    "# And with different optimizer\n",
    "optimizer = fluid.optimizer.Adam(learning_rate=0.001)\n",
    "_ = optimizer.minimize(avg_cost1)\n",
    "optimizer2 = fluid.optimizer.Adam(learning_rate=0.001)\n",
    "_ = optimizer2.minimize(avg_cost2)\n",
    "optimizer3 = fluid.optimizer.Adam(learning_rate=0.001)\n",
    "_ = optimizer3.minimize(avg_cost3)"
   ]
  },
  {
   "cell_type": "code",
   "execution_count": 6,
   "metadata": {
    "ExecuteTime": {
     "end_time": "2018-07-25T07:45:21.397059Z",
     "start_time": "2018-07-25T07:45:21.288134Z"
    }
   },
   "outputs": [
    {
     "name": "stderr",
     "output_type": "stream",
     "text": [
      "WARNING:root:write block debug graph to g1.pdf\n",
      "WARNING:root:write block debug graph to g2.pdf\n"
     ]
    }
   ],
   "source": [
    "draw_block_graphviz(avg_cost1.block, path=\"g1.pdf\")\n",
    "draw_block_graphviz(avg_cost2.block, path=\"g2.pdf\")"
   ]
  },
  {
   "cell_type": "code",
   "execution_count": 7,
   "metadata": {
    "ExecuteTime": {
     "end_time": "2018-07-25T07:45:21.507372Z",
     "start_time": "2018-07-25T07:45:21.407372Z"
    }
   },
   "outputs": [
    {
     "data": {
      "text/plain": [
       "[]"
      ]
     },
     "execution_count": 7,
     "metadata": {},
     "output_type": "execute_result"
    }
   ],
   "source": [
    "exe = fluid.Executor(fluid.CPUPlace())\n",
    "exe.run(fluid.default_startup_program())"
   ]
  },
  {
   "cell_type": "code",
   "execution_count": 8,
   "metadata": {
    "ExecuteTime": {
     "end_time": "2018-07-25T07:46:04.457408Z",
     "start_time": "2018-07-25T07:45:21.511338Z"
    }
   },
   "outputs": [
    {
     "name": "stdout",
     "output_type": "stream",
     "text": [
      "(0, 4.21338, 6.256412, 7.2955246)\n",
      "(100, 0.12623334, 0.032384813, 0.11959931)\n",
      "(200, 0.1316835, 0.027014297, 0.103084795)\n",
      "(300, 0.12968615, 0.024039526, 0.093308955)\n",
      "(400, 0.12740204, 0.02158181, 0.08514366)\n",
      "(500, 0.124925956, 0.019551685, 0.07851617)\n",
      "(600, 0.12276098, 0.017818484, 0.072931156)\n",
      "(700, 0.12098904, 0.016324164, 0.06812219)\n",
      "(800, 0.11956181, 0.015047586, 0.06395402)\n",
      "(900, 0.118354075, 0.013962875, 0.060271367)\n"
     ]
    }
   ],
   "source": [
    "for i in range(1000):\n",
    "    c1 = exe.run(program=train_program1, fetch_list=[avg_cost1], feed={\n",
    "            image1.name: dataset[0][0], label1.name: dataset[0][1]\n",
    "    })\n",
    "    c2 = exe.run(program=train_program2, fetch_list=[avg_cost2], feed={\n",
    "            image2.name: dataset[1][0], label2.name: dataset[1][1]\n",
    "    })\n",
    "    c3 = exe.run(program=train_program3, fetch_list=[avg_cost3], feed={\n",
    "            image3.name: dataset[2][0], label3.name: dataset[2][1]\n",
    "    })\n",
    "    if i % 100 == 0:\n",
    "        print(i, c1[0][0], c2[0][0], c3[0][0])"
   ]
  },
  {
   "cell_type": "code",
   "execution_count": 9,
   "metadata": {
    "ExecuteTime": {
     "end_time": "2018-07-25T07:46:04.587011Z",
     "start_time": "2018-07-25T07:46:04.462669Z"
    }
   },
   "outputs": [
    {
     "name": "stdout",
     "output_type": "stream",
     "text": [
      "conv2d.b_1  conv2d.w_1\tpredict.b_1  predict.w_1\r\n"
     ]
    }
   ],
   "source": [
    "fluid.io.save_params(exe, dirname=\"shared\")\n",
    "!ls shared"
   ]
  },
  {
   "cell_type": "code",
   "execution_count": 10,
   "metadata": {
    "ExecuteTime": {
     "end_time": "2018-07-25T07:46:04.631188Z",
     "start_time": "2018-07-25T07:46:04.593238Z"
    }
   },
   "outputs": [
    {
     "name": "stdout",
     "output_type": "stream",
     "text": [
      "[0.17281255]\n"
     ]
    }
   ],
   "source": [
    "# For another inputsize, we can reuse the shared network\n",
    "img_size = 129\n",
    "image, label, predict, avg_cost, train_program1, infer_program1 = train_net(\"new_129\", [3,img_size,img_size])\n",
    "result, avg_cost = exe.run(program=train_program1, fetch_list=[predict, avg_cost], feed={\n",
    "    image.name: np.random.random((8, 3, img_size, img_size)).astype('float32'),\n",
    "    label.name: np.ones((8, 1)).astype('float32')\n",
    "})\n",
    "print(avg_cost)"
   ]
  },
  {
   "cell_type": "code",
   "execution_count": 11,
   "metadata": {
    "ExecuteTime": {
     "end_time": "2018-07-25T07:46:04.670445Z",
     "start_time": "2018-07-25T07:46:04.634828Z"
    }
   },
   "outputs": [
    {
     "data": {
      "text/plain": [
       "array([[1.3968543],\n",
       "       [1.3360865],\n",
       "       [1.4340291],\n",
       "       [1.3299111],\n",
       "       [1.3533896],\n",
       "       [1.4627941],\n",
       "       [1.3668158],\n",
       "       [1.5841353]], dtype=float32)"
      ]
     },
     "execution_count": 11,
     "metadata": {},
     "output_type": "execute_result"
    }
   ],
   "source": [
    "result"
   ]
  },
  {
   "cell_type": "code",
   "execution_count": null,
   "metadata": {},
   "outputs": [],
   "source": []
  }
 ],
 "metadata": {
  "kernelspec": {
   "display_name": "Python 2",
   "language": "python",
   "name": "python2"
  },
  "language_info": {
   "codemirror_mode": {
    "name": "ipython",
    "version": 2
   },
   "file_extension": ".py",
   "mimetype": "text/x-python",
   "name": "python",
   "nbconvert_exporter": "python",
   "pygments_lexer": "ipython2",
   "version": "2.7.15"
  }
 },
 "nbformat": 4,
 "nbformat_minor": 2
}
