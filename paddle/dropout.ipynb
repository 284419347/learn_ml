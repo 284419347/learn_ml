{
 "cells": [
  {
   "cell_type": "code",
   "execution_count": 1,
   "metadata": {
    "ExecuteTime": {
     "end_time": "2018-08-03T02:59:33.686492Z",
     "start_time": "2018-08-03T02:59:32.916754Z"
    }
   },
   "outputs": [],
   "source": [
    "import paddle.fluid as fluid\n",
    "import paddle\n",
    "import numpy as np"
   ]
  },
  {
   "cell_type": "code",
   "execution_count": 2,
   "metadata": {
    "ExecuteTime": {
     "end_time": "2018-08-03T02:59:33.696253Z",
     "start_time": "2018-08-03T02:59:33.690562Z"
    }
   },
   "outputs": [],
   "source": [
    "x = fluid.layers.data('x', shape=[10], dtype='float32')\n",
    "y = fluid.layers.dropout(x, dropout_prob=0.3)"
   ]
  },
  {
   "cell_type": "code",
   "execution_count": 3,
   "metadata": {
    "ExecuteTime": {
     "end_time": "2018-08-03T02:59:33.765135Z",
     "start_time": "2018-08-03T02:59:33.700084Z"
    }
   },
   "outputs": [],
   "source": [
    "test_program = fluid.default_main_program().clone(for_test=True)"
   ]
  },
  {
   "cell_type": "code",
   "execution_count": 4,
   "metadata": {
    "ExecuteTime": {
     "end_time": "2018-08-03T02:59:33.857925Z",
     "start_time": "2018-08-03T02:59:33.771001Z"
    }
   },
   "outputs": [
    {
     "data": {
      "text/plain": [
       "[]"
      ]
     },
     "execution_count": 4,
     "metadata": {},
     "output_type": "execute_result"
    }
   ],
   "source": [
    "exe = fluid.Executor(fluid.CPUPlace())\n",
    "exe.run(fluid.default_startup_program())"
   ]
  },
  {
   "cell_type": "code",
   "execution_count": 5,
   "metadata": {
    "ExecuteTime": {
     "end_time": "2018-08-03T02:59:34.021923Z",
     "start_time": "2018-08-03T02:59:33.863882Z"
    }
   },
   "outputs": [
    {
     "data": {
      "text/plain": [
       "[array([[0., 0., 2., 3., 4., 5., 6., 7., 8., 9.]], dtype=float32)]"
      ]
     },
     "execution_count": 5,
     "metadata": {},
     "output_type": "execute_result"
    }
   ],
   "source": [
    "exe.run(fetch_list=[y], feed={\n",
    "    'x': np.arange(10).reshape(1, 10).astype('float32')\n",
    "})"
   ]
  },
  {
   "cell_type": "code",
   "execution_count": 6,
   "metadata": {
    "ExecuteTime": {
     "end_time": "2018-08-03T02:59:34.083474Z",
     "start_time": "2018-08-03T02:59:34.025926Z"
    }
   },
   "outputs": [
    {
     "data": {
      "text/plain": [
       "[array([[0.       , 0.7      , 1.4      , 2.1      , 2.8      , 3.5      ,\n",
       "         4.2      , 4.9      , 5.6      , 6.2999997]], dtype=float32)]"
      ]
     },
     "execution_count": 6,
     "metadata": {},
     "output_type": "execute_result"
    }
   ],
   "source": [
    "exe.run(test_program, fetch_list=[y], feed={\n",
    "    'x': np.arange(10).reshape(1, 10).astype('float32')\n",
    "})"
   ]
  },
  {
   "cell_type": "code",
   "execution_count": null,
   "metadata": {},
   "outputs": [],
   "source": []
  }
 ],
 "metadata": {
  "kernelspec": {
   "display_name": "Python 2",
   "language": "python",
   "name": "python2"
  },
  "language_info": {
   "codemirror_mode": {
    "name": "ipython",
    "version": 2
   },
   "file_extension": ".py",
   "mimetype": "text/x-python",
   "name": "python",
   "nbconvert_exporter": "python",
   "pygments_lexer": "ipython2",
   "version": "2.7.15"
  }
 },
 "nbformat": 4,
 "nbformat_minor": 2
}
