{
 "cells": [
  {
   "cell_type": "code",
   "execution_count": 1,
   "metadata": {
    "ExecuteTime": {
     "end_time": "2018-07-19T05:00:08.920300Z",
     "start_time": "2018-07-19T05:00:08.164544Z"
    }
   },
   "outputs": [],
   "source": [
    "import paddle.fluid as fluid\n",
    "import paddle\n",
    "import numpy as np\n",
    "from paddle.fluid.debugger import draw_block_graphviz"
   ]
  },
  {
   "cell_type": "markdown",
   "metadata": {
    "ExecuteTime": {
     "end_time": "2018-07-19T04:52:01.569854Z",
     "start_time": "2018-07-19T04:52:01.563640Z"
    }
   },
   "source": [
    "## Print"
   ]
  },
  {
   "cell_type": "code",
   "execution_count": 2,
   "metadata": {
    "ExecuteTime": {
     "end_time": "2018-07-19T05:00:08.929383Z",
     "start_time": "2018-07-19T05:00:08.924284Z"
    }
   },
   "outputs": [],
   "source": [
    "data = fluid.layers.fill_constant(shape=[3, 3], value=9, dtype='int64')"
   ]
  },
  {
   "cell_type": "code",
   "execution_count": 3,
   "metadata": {
    "ExecuteTime": {
     "end_time": "2018-07-19T05:00:09.070212Z",
     "start_time": "2018-07-19T05:00:08.933126Z"
    }
   },
   "outputs": [],
   "source": [
    "data = fluid.layers.Print(data, message=\"constant data\")"
   ]
  },
  {
   "cell_type": "code",
   "execution_count": 4,
   "metadata": {
    "ExecuteTime": {
     "end_time": "2018-07-19T05:00:09.158097Z",
     "start_time": "2018-07-19T05:00:09.077309Z"
    }
   },
   "outputs": [
    {
     "data": {
      "text/plain": [
       "[]"
      ]
     },
     "execution_count": 4,
     "metadata": {},
     "output_type": "execute_result"
    }
   ],
   "source": [
    "exe = fluid.executor.Executor(fluid.CPUPlace())\n",
    "exe.run(fluid.default_startup_program())"
   ]
  },
  {
   "cell_type": "code",
   "execution_count": 5,
   "metadata": {
    "ExecuteTime": {
     "end_time": "2018-07-19T05:00:09.273479Z",
     "start_time": "2018-07-19T05:00:09.163850Z"
    }
   },
   "outputs": [
    {
     "data": {
      "text/plain": [
       "[array([[9, 9, 9],\n",
       "        [9, 9, 9],\n",
       "        [9, 9, 9]])]"
      ]
     },
     "execution_count": 5,
     "metadata": {},
     "output_type": "execute_result"
    }
   ],
   "source": [
    "exe.run(fetch_list=[data])"
   ]
  },
  {
   "cell_type": "markdown",
   "metadata": {},
   "source": [
    "In stderr:\n",
    "\n",
    "```\n",
    "1531976409\tconstant data\tTensor[fill_constant_0.tmp_0]\n",
    "\tshape: [3,3,]\n",
    "\tdtype: l\n",
    "\tdata: 9,9,9,9,9,9,9,9,9,\n",
    "```"
   ]
  },
  {
   "cell_type": "code",
   "execution_count": null,
   "metadata": {},
   "outputs": [],
   "source": []
  }
 ],
 "metadata": {
  "kernelspec": {
   "display_name": "Python 2",
   "language": "python",
   "name": "python2"
  },
  "language_info": {
   "codemirror_mode": {
    "name": "ipython",
    "version": 2
   },
   "file_extension": ".py",
   "mimetype": "text/x-python",
   "name": "python",
   "nbconvert_exporter": "python",
   "pygments_lexer": "ipython2",
   "version": "2.7.15"
  }
 },
 "nbformat": 4,
 "nbformat_minor": 2
}
