{
 "cells": [
  {
   "cell_type": "code",
   "execution_count": 1,
   "metadata": {
    "ExecuteTime": {
     "end_time": "2018-07-25T07:43:59.226955Z",
     "start_time": "2018-07-25T07:43:58.461194Z"
    },
    "id": "E3C4B2E7E6994ACD86D0F87E78316940",
    "scrolled": false
   },
   "outputs": [],
   "source": [
    "import paddle.fluid as fluid\n",
    "import paddle\n",
    "import numpy as np\n",
    "from paddle.fluid.debugger import draw_block_graphviz"
   ]
  },
  {
   "cell_type": "code",
   "execution_count": 2,
   "metadata": {
    "ExecuteTime": {
     "end_time": "2018-07-25T07:43:59.238386Z",
     "start_time": "2018-07-25T07:43:59.231113Z"
    }
   },
   "outputs": [],
   "source": [
    "np.random.seed(0)\n",
    "X_train = np.random.random(size=(4, 3, 10, 10)).astype('float32')\n",
    "Y_train = np.array([[1], [1], [1], [1]]).astype('float32')"
   ]
  },
  {
   "cell_type": "code",
   "execution_count": 3,
   "metadata": {
    "ExecuteTime": {
     "end_time": "2018-07-25T07:43:59.304214Z",
     "start_time": "2018-07-25T07:43:59.242200Z"
    }
   },
   "outputs": [],
   "source": [
    "def net(image):\n",
    "    y = fluid.layers.conv2d(name=\"conv2d\", input=image, num_filters=3, filter_size=3, act='relu')\n",
    "    y = fluid.layers.Print(y, summarize=10, message=\"Conv2d\")\n",
    "    pool2d = fluid.layers.pool2d(name=\"pool2d\", input=y, pool_size=y.shape[2:])\n",
    "    pool2d = fluid.layers.Print(pool2d, summarize=10, message=\"Pool2d\")\n",
    "    y = fluid.layers.fc(name='predict', input=pool2d, size=1)\n",
    "    return (y, pool2d)"
   ]
  },
  {
   "cell_type": "markdown",
   "metadata": {},
   "source": [
    "## Trainer & Inferencer"
   ]
  },
  {
   "cell_type": "code",
   "execution_count": 4,
   "metadata": {
    "ExecuteTime": {
     "end_time": "2018-07-25T07:43:59.369881Z",
     "start_time": "2018-07-25T07:43:59.309176Z"
    }
   },
   "outputs": [],
   "source": [
    "def reader():\n",
    "    l = X_train.shape[0]\n",
    "    for i in range(l):\n",
    "        yield X_train[i], Y_train[i]\n",
    "\n",
    "train_reader = paddle.batch(reader, 2)"
   ]
  },
  {
   "cell_type": "code",
   "execution_count": 5,
   "metadata": {
    "ExecuteTime": {
     "end_time": "2018-07-25T07:43:59.456896Z",
     "start_time": "2018-07-25T07:43:59.375332Z"
    }
   },
   "outputs": [],
   "source": [
    "def optimizer_program():\n",
    "    return fluid.optimizer.Adam(learning_rate=0.001)"
   ]
  },
  {
   "cell_type": "code",
   "execution_count": 6,
   "metadata": {
    "ExecuteTime": {
     "end_time": "2018-07-25T07:43:59.526589Z",
     "start_time": "2018-07-25T07:43:59.464582Z"
    }
   },
   "outputs": [],
   "source": [
    "def train_program():\n",
    "    label = fluid.layers.data(name='label', shape=[1], dtype='float32')\n",
    "    image = fluid.layers.data(name='image', shape=[3, 10, 10], dtype='float32')\n",
    "    predict, _ = net(image)\n",
    "    cost = fluid.layers.square_error_cost(input=predict, label=label)\n",
    "    avg_cost = fluid.layers.mean(cost)\n",
    "    return [avg_cost]"
   ]
  },
  {
   "cell_type": "code",
   "execution_count": 7,
   "metadata": {
    "ExecuteTime": {
     "end_time": "2018-07-25T07:43:59.587376Z",
     "start_time": "2018-07-25T07:43:59.531316Z"
    }
   },
   "outputs": [],
   "source": [
    "def infer_program():\n",
    "    image = fluid.layers.data(name='image', shape=[3, 10, 10], dtype='float32')\n",
    "    predict, _= net(image)\n",
    "    return predict"
   ]
  },
  {
   "cell_type": "code",
   "execution_count": 8,
   "metadata": {
    "ExecuteTime": {
     "end_time": "2018-07-25T07:43:59.735124Z",
     "start_time": "2018-07-25T07:43:59.596569Z"
    }
   },
   "outputs": [],
   "source": [
    "trainer = fluid.Trainer(\n",
    "    train_func=train_program, place=fluid.CPUPlace(), optimizer_func=optimizer_program)"
   ]
  },
  {
   "cell_type": "code",
   "execution_count": 9,
   "metadata": {
    "ExecuteTime": {
     "end_time": "2018-07-25T07:43:59.804120Z",
     "start_time": "2018-07-25T07:43:59.738705Z"
    }
   },
   "outputs": [],
   "source": [
    "def event_handler(event):\n",
    "   if isinstance(event, fluid.EndEpochEvent):\n",
    "        trainer.save_params(\"./model\")"
   ]
  },
  {
   "cell_type": "code",
   "execution_count": null,
   "metadata": {
    "ExecuteTime": {
     "start_time": "2018-07-25T07:43:58.474Z"
    }
   },
   "outputs": [],
   "source": [
    "trainer.train(\n",
    "    num_epochs=200,\n",
    "    event_handler=event_handler,\n",
    "    reader=train_reader,\n",
    "    feed_order=[\"image\", \"label\"]\n",
    ")"
   ]
  },
  {
   "cell_type": "code",
   "execution_count": null,
   "metadata": {
    "ExecuteTime": {
     "start_time": "2018-07-25T07:43:58.475Z"
    }
   },
   "outputs": [],
   "source": [
    "!ls model"
   ]
  },
  {
   "cell_type": "code",
   "execution_count": null,
   "metadata": {
    "ExecuteTime": {
     "start_time": "2018-07-25T07:43:58.476Z"
    }
   },
   "outputs": [],
   "source": [
    "infer = fluid.Inferencer(infer_func=infer_program, param_path=\"model\", place=fluid.CPUPlace())"
   ]
  },
  {
   "cell_type": "code",
   "execution_count": null,
   "metadata": {
    "ExecuteTime": {
     "start_time": "2018-07-25T07:43:58.478Z"
    }
   },
   "outputs": [],
   "source": [
    "infer.infer({'image': X_train})"
   ]
  },
  {
   "cell_type": "code",
   "execution_count": null,
   "metadata": {
    "ExecuteTime": {
     "start_time": "2018-07-25T07:43:58.479Z"
    }
   },
   "outputs": [],
   "source": [
    "with fluid.executor.scope_guard(infer.scope):\n",
    "    result = infer.exe.run(infer.inference_program, fetch_list=[infer.predict_var], feed={'image': X_train})\n",
    "result"
   ]
  },
  {
   "cell_type": "code",
   "execution_count": null,
   "metadata": {
    "ExecuteTime": {
     "start_time": "2018-07-25T07:43:58.481Z"
    }
   },
   "outputs": [],
   "source": [
    "# Draw a graph to find variable names\n",
    "draw_block_graphviz(infer.inference_program.blocks[0], path=\"g.pdf\")"
   ]
  },
  {
   "cell_type": "code",
   "execution_count": null,
   "metadata": {
    "ExecuteTime": {
     "start_time": "2018-07-25T07:43:58.483Z"
    }
   },
   "outputs": [],
   "source": [
    "# fetch param and varialbe by name\n",
    "infer.exe.run(infer.inference_program, \n",
    "              fetch_list=[infer.predict_var, 'conv2d.b_0', 'pool2d.tmp_0'],  \n",
    "              feed={'image': X_train},\n",
    "              scope=infer.scope)"
   ]
  },
  {
   "cell_type": "code",
   "execution_count": null,
   "metadata": {
    "ExecuteTime": {
     "start_time": "2018-07-25T07:43:58.484Z"
    }
   },
   "outputs": [],
   "source": [
    "b = fluid.global_scope().find_var('conv2d.b_0') # Trainer & Inferencer runs in a new scope\n",
    "b, type(b)"
   ]
  },
  {
   "cell_type": "markdown",
   "metadata": {},
   "source": [
    "## Executor"
   ]
  },
  {
   "cell_type": "code",
   "execution_count": null,
   "metadata": {
    "ExecuteTime": {
     "start_time": "2018-07-25T07:43:58.486Z"
    }
   },
   "outputs": [],
   "source": [
    "label = fluid.layers.data(name='label', shape=[1], dtype='float32')\n",
    "image = fluid.layers.data(name='image', shape=[3, 10, 10], dtype='float32')\n",
    "[predict, pool2d] = net(image)\n",
    "inference_program = fluid.default_main_program().clone(for_test=True)"
   ]
  },
  {
   "cell_type": "code",
   "execution_count": null,
   "metadata": {
    "ExecuteTime": {
     "start_time": "2018-07-25T07:43:58.487Z"
    }
   },
   "outputs": [],
   "source": [
    "cost = fluid.layers.square_error_cost(input=predict, label=label)\n",
    "avg_cost = fluid.layers.mean(cost)"
   ]
  },
  {
   "cell_type": "code",
   "execution_count": null,
   "metadata": {
    "ExecuteTime": {
     "start_time": "2018-07-25T07:43:58.489Z"
    }
   },
   "outputs": [],
   "source": [
    "optimizer = fluid.optimizer.Adam(learning_rate=0.01)"
   ]
  },
  {
   "cell_type": "code",
   "execution_count": null,
   "metadata": {
    "ExecuteTime": {
     "start_time": "2018-07-25T07:43:58.491Z"
    }
   },
   "outputs": [],
   "source": [
    "_ = optimizer.minimize(avg_cost)"
   ]
  },
  {
   "cell_type": "code",
   "execution_count": null,
   "metadata": {
    "ExecuteTime": {
     "start_time": "2018-07-25T07:43:58.492Z"
    }
   },
   "outputs": [],
   "source": [
    "exe = fluid.Executor(fluid.CPUPlace())"
   ]
  },
  {
   "cell_type": "code",
   "execution_count": null,
   "metadata": {
    "ExecuteTime": {
     "start_time": "2018-07-25T07:43:58.494Z"
    }
   },
   "outputs": [],
   "source": [
    "exe.run(fluid.default_startup_program())"
   ]
  },
  {
   "cell_type": "code",
   "execution_count": null,
   "metadata": {
    "ExecuteTime": {
     "start_time": "2018-07-25T07:43:58.496Z"
    }
   },
   "outputs": [],
   "source": [
    "feed={'image': X_train, 'label': Y_train}"
   ]
  },
  {
   "cell_type": "code",
   "execution_count": null,
   "metadata": {
    "ExecuteTime": {
     "start_time": "2018-07-25T07:43:58.497Z"
    }
   },
   "outputs": [],
   "source": [
    "for i in range(200):\n",
    "    cost, _ = exe.run(fetch_list=[avg_cost, pool2d], feed=feed)\n",
    "    if i % 50 == 0:\n",
    "        print(\"Epoch %i, cost %f\" % (i, cost))\n",
    "print(\"Epoch %i, cost %f\" % (i, cost))"
   ]
  },
  {
   "cell_type": "code",
   "execution_count": null,
   "metadata": {
    "ExecuteTime": {
     "start_time": "2018-07-25T07:43:58.500Z"
    }
   },
   "outputs": [],
   "source": [
    "fluid.io.save_params(exe, dirname=\"exe-model\")\n",
    "!ls exe-model"
   ]
  },
  {
   "cell_type": "code",
   "execution_count": null,
   "metadata": {
    "ExecuteTime": {
     "start_time": "2018-07-25T07:43:58.501Z"
    }
   },
   "outputs": [],
   "source": [
    "exe.run(inference_program, fetch_list=[predict], feed=feed)"
   ]
  },
  {
   "cell_type": "code",
   "execution_count": null,
   "metadata": {
    "ExecuteTime": {
     "start_time": "2018-07-25T07:43:58.503Z"
    }
   },
   "outputs": [],
   "source": [
    "fluid.io.load_params(exe, dirname=\"exe-model\")"
   ]
  }
 ],
 "metadata": {
  "kernelspec": {
   "display_name": "Python 2",
   "language": "python",
   "name": "python2"
  },
  "language_info": {
   "codemirror_mode": {
    "name": "ipython",
    "version": 2
   },
   "file_extension": ".py",
   "mimetype": "text/x-python",
   "name": "python",
   "nbconvert_exporter": "python",
   "pygments_lexer": "ipython2",
   "version": "2.7.15"
  }
 },
 "nbformat": 4,
 "nbformat_minor": 1
}
