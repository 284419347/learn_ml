{
 "cells": [
  {
   "cell_type": "code",
   "execution_count": 1,
   "metadata": {
    "ExecuteTime": {
     "end_time": "2018-07-25T07:11:56.992459Z",
     "start_time": "2018-07-25T07:11:56.052048Z"
    }
   },
   "outputs": [],
   "source": [
    "import paddle.fluid as fluid\n",
    "import paddle\n",
    "import matplotlib.pyplot as plt\n",
    "import numpy as np\n",
    "from paddle.fluid.debugger import draw_block_graphviz"
   ]
  },
  {
   "cell_type": "code",
   "execution_count": 2,
   "metadata": {
    "ExecuteTime": {
     "end_time": "2018-07-25T07:11:57.675445Z",
     "start_time": "2018-07-25T07:11:57.648683Z"
    }
   },
   "outputs": [],
   "source": [
    "class NumpyInitializer(fluid.initializer.Initializer):\n",
    "    \n",
    "    def __init__(self, ndarray):\n",
    "        super(NumpyInitializer, self).__init__()\n",
    "        self._ndarray = ndarray.astype('float32')\n",
    "\n",
    "    def __call__(self, var, block):\n",
    "        values = [float(v) for v in self._ndarray.flat]\n",
    "        op = block.append_op(\n",
    "            type=\"assign_value\",\n",
    "            outputs={\"Out\": [var]},\n",
    "            attrs={\n",
    "                \"shape\": var.shape,\n",
    "                \"dtype\": int(var.dtype),\n",
    "                \"fp32_values\": values\n",
    "            })\n",
    "        var.op = op\n",
    "        return op"
   ]
  },
  {
   "cell_type": "code",
   "execution_count": 3,
   "metadata": {
    "ExecuteTime": {
     "end_time": "2018-07-25T07:11:59.429370Z",
     "start_time": "2018-07-25T07:11:59.407280Z"
    },
    "scrolled": false
   },
   "outputs": [],
   "source": [
    "w = np.arange(10).reshape(5, 2).astype('float32')\n",
    "b = np.arange(2).astype('float32')\n",
    "\n",
    "x = fluid.layers.data('x', [-1, 5], dtype='float32')\n",
    "y = fluid.layers.fc(x, size=2, param_attr=NumpyInitializer(w), bias_attr=NumpyInitializer(b))"
   ]
  },
  {
   "cell_type": "code",
   "execution_count": 4,
   "metadata": {
    "ExecuteTime": {
     "end_time": "2018-07-25T07:12:00.194099Z",
     "start_time": "2018-07-25T07:12:00.168358Z"
    }
   },
   "outputs": [
    {
     "name": "stderr",
     "output_type": "stream",
     "text": [
      "WARNING:root:write block debug graph to g.pdf\n"
     ]
    }
   ],
   "source": [
    "draw_block_graphviz(y.block, path=\"g.pdf\")"
   ]
  },
  {
   "cell_type": "code",
   "execution_count": 5,
   "metadata": {
    "ExecuteTime": {
     "end_time": "2018-07-25T07:12:02.253444Z",
     "start_time": "2018-07-25T07:12:02.160998Z"
    }
   },
   "outputs": [
    {
     "data": {
      "text/plain": [
       "[array([[20., 26.]], dtype=float32)]"
      ]
     },
     "execution_count": 5,
     "metadata": {},
     "output_type": "execute_result"
    }
   ],
   "source": [
    "exe = fluid.executor.Executor(fluid.CPUPlace())\n",
    "exe.run(fluid.default_startup_program())\n",
    "\n",
    "x_input = np.ones((1, 5)).astype('float32')\n",
    "exe.run(fetch_list=[y], feed={'x': x_input}) # [20, 26.]"
   ]
  },
  {
   "cell_type": "code",
   "execution_count": 6,
   "metadata": {
    "ExecuteTime": {
     "end_time": "2018-07-25T07:12:03.860882Z",
     "start_time": "2018-07-25T07:12:03.848474Z"
    },
    "scrolled": false
   },
   "outputs": [
    {
     "data": {
      "text/plain": [
       "blocks {\n",
       "  idx: 0\n",
       "  parent_idx: -1\n",
       "  vars {\n",
       "    name: \"fc_0.b_0\"\n",
       "    type {\n",
       "      type: LOD_TENSOR\n",
       "      lod_tensor {\n",
       "        tensor {\n",
       "          data_type: FP32\n",
       "          dims: 2\n",
       "        }\n",
       "      }\n",
       "    }\n",
       "    persistable: true\n",
       "  }\n",
       "  vars {\n",
       "    name: \"fc_0.w_0\"\n",
       "    type {\n",
       "      type: LOD_TENSOR\n",
       "      lod_tensor {\n",
       "        tensor {\n",
       "          data_type: FP32\n",
       "          dims: 5\n",
       "          dims: 2\n",
       "        }\n",
       "      }\n",
       "    }\n",
       "    persistable: true\n",
       "  }\n",
       "  ops {\n",
       "    outputs {\n",
       "      parameter: \"Out\"\n",
       "      arguments: \"fc_0.w_0\"\n",
       "    }\n",
       "    type: \"assign_value\"\n",
       "    attrs {\n",
       "      name: \"op_role_var\"\n",
       "      type: STRINGS\n",
       "    }\n",
       "    attrs {\n",
       "      name: \"int32_values\"\n",
       "      type: INTS\n",
       "    }\n",
       "    attrs {\n",
       "      name: \"op_role\"\n",
       "      type: INT\n",
       "      i: 0\n",
       "    }\n",
       "    attrs {\n",
       "      name: \"fp32_values\"\n",
       "      type: FLOATS\n",
       "      floats: 0.0\n",
       "      floats: 1.0\n",
       "      floats: 2.0\n",
       "      floats: 3.0\n",
       "      floats: 4.0\n",
       "      floats: 5.0\n",
       "      floats: 6.0\n",
       "      floats: 7.0\n",
       "      floats: 8.0\n",
       "      floats: 9.0\n",
       "    }\n",
       "    attrs {\n",
       "      name: \"dtype\"\n",
       "      type: INT\n",
       "      i: 5\n",
       "    }\n",
       "    attrs {\n",
       "      name: \"shape\"\n",
       "      type: INTS\n",
       "      ints: 5\n",
       "      ints: 2\n",
       "    }\n",
       "  }\n",
       "  ops {\n",
       "    outputs {\n",
       "      parameter: \"Out\"\n",
       "      arguments: \"fc_0.b_0\"\n",
       "    }\n",
       "    type: \"assign_value\"\n",
       "    attrs {\n",
       "      name: \"op_role_var\"\n",
       "      type: STRINGS\n",
       "    }\n",
       "    attrs {\n",
       "      name: \"int32_values\"\n",
       "      type: INTS\n",
       "    }\n",
       "    attrs {\n",
       "      name: \"op_role\"\n",
       "      type: INT\n",
       "      i: 0\n",
       "    }\n",
       "    attrs {\n",
       "      name: \"fp32_values\"\n",
       "      type: FLOATS\n",
       "      floats: 0.0\n",
       "      floats: 1.0\n",
       "    }\n",
       "    attrs {\n",
       "      name: \"dtype\"\n",
       "      type: INT\n",
       "      i: 5\n",
       "    }\n",
       "    attrs {\n",
       "      name: \"shape\"\n",
       "      type: INTS\n",
       "      ints: 2\n",
       "    }\n",
       "  }\n",
       "}"
      ]
     },
     "execution_count": 6,
     "metadata": {},
     "output_type": "execute_result"
    }
   ],
   "source": [
    "fluid.default_startup_program()"
   ]
  },
  {
   "cell_type": "code",
   "execution_count": null,
   "metadata": {},
   "outputs": [],
   "source": []
  }
 ],
 "metadata": {
  "kernelspec": {
   "display_name": "Python 2",
   "language": "python",
   "name": "python2"
  },
  "language_info": {
   "codemirror_mode": {
    "name": "ipython",
    "version": 2
   },
   "file_extension": ".py",
   "mimetype": "text/x-python",
   "name": "python",
   "nbconvert_exporter": "python",
   "pygments_lexer": "ipython2",
   "version": "2.7.15"
  }
 },
 "nbformat": 4,
 "nbformat_minor": 2
}
