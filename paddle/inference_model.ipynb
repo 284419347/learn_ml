{
 "cells": [
  {
   "cell_type": "code",
   "execution_count": 1,
   "metadata": {
    "ExecuteTime": {
     "end_time": "2018-07-25T07:15:39.676325Z",
     "start_time": "2018-07-25T07:15:38.910266Z"
    }
   },
   "outputs": [],
   "source": [
    "import paddle.fluid as fluid\n",
    "import numpy as np\n",
    "\n",
    "from paddle.fluid.debugger import draw_block_graphviz"
   ]
  },
  {
   "cell_type": "code",
   "execution_count": 2,
   "metadata": {
    "ExecuteTime": {
     "end_time": "2018-07-25T07:15:39.685358Z",
     "start_time": "2018-07-25T07:15:39.680335Z"
    }
   },
   "outputs": [],
   "source": [
    "# 一个简单的网络\n",
    "def network(inp):\n",
    "    y = fluid.layers.fc(inp, size=1, act=None)\n",
    "    return y"
   ]
  },
  {
   "cell_type": "code",
   "execution_count": 3,
   "metadata": {
    "ExecuteTime": {
     "end_time": "2018-07-25T07:15:39.763637Z",
     "start_time": "2018-07-25T07:15:39.688932Z"
    }
   },
   "outputs": [],
   "source": [
    "# 训练数据, y = 2x + 3\n",
    "data_x = np.arange(128).reshape(128, 1).astype('float32')\n",
    "data_y = (data_x * 2 + 3).reshape(128, 1)\n",
    "test_x =np.array([1024, 600, 666]).reshape(3, 1).astype('float32')"
   ]
  },
  {
   "cell_type": "code",
   "execution_count": 4,
   "metadata": {
    "ExecuteTime": {
     "end_time": "2018-07-25T07:15:41.011601Z",
     "start_time": "2018-07-25T07:15:39.767939Z"
    }
   },
   "outputs": [
    {
     "name": "stdout",
     "output_type": "stream",
     "text": [
      "Epoch 0 loss 27859.640625\n",
      "Epoch 100 loss 0.883998\n",
      "Epoch 200 loss 0.115282\n",
      "Epoch 300 loss 0.094322\n",
      "Epoch 400 loss 0.073891\n",
      "Epoch 500 loss 0.055575\n",
      "Epoch 600 loss 0.040188\n",
      "Epoch 700 loss 0.027956\n",
      "Epoch 800 loss 0.018710\n",
      "Epoch 900 loss 0.012042\n",
      "[array([[2052.9038],\n",
      "       [1204.0444],\n",
      "       [1336.1782]], dtype=float32)]\n"
     ]
    }
   ],
   "source": [
    "main = fluid.Program()\n",
    "startup = fluid.Program()\n",
    "scope = fluid.Scope()\n",
    "\n",
    "with fluid.unique_name.guard():\n",
    "    with fluid.scope_guard(scope):\n",
    "        with fluid.program_guard(main ,startup):\n",
    "            \n",
    "            # 预测网络\n",
    "            x = fluid.layers.data('x', [1])\n",
    "            predict_y = network(x)\n",
    "        \n",
    "            inference_program = main.clone(for_test=True)\n",
    "        \n",
    "            # 损失\n",
    "            y = fluid.layers.data('y', [1])\n",
    "            loss = fluid.layers.square_error_cost(input=predict_y, label=y)\n",
    "            loss = fluid.layers.mean(loss)\n",
    "            \n",
    "            # 优化器\n",
    "            opt = fluid.optimizer.Adam(learning_rate=0.1)\n",
    "            opt.minimize(loss)\n",
    "\n",
    "            # 初始化变量\n",
    "            exe = fluid.executor.Executor(fluid.CPUPlace())\n",
    "            exe.run(startup)\n",
    "\n",
    "            # 训练\n",
    "            for i in range(1000):\n",
    "                result = exe.run(fetch_list=[loss], feed={\n",
    "                    'x': data_x,\n",
    "                    'y': data_y\n",
    "                })\n",
    "                if i % 100 == 0:\n",
    "                    print(\"Epoch %i loss %f\" %(i, result[0][0]))\n",
    "            \n",
    "            # 预测\n",
    "            result = exe.run(inference_program, fetch_list=[predict_y], feed={\n",
    "                'x': test_x\n",
    "            })\n",
    "            print(result)\n",
    "            \n",
    "            fluid.io.save_inference_model(\"models/linear\", \n",
    "                                          feeded_var_names=['x'], \n",
    "                                          target_vars=[predict_y],\n",
    "                                          executor=exe)"
   ]
  },
  {
   "cell_type": "code",
   "execution_count": 5,
   "metadata": {
    "ExecuteTime": {
     "end_time": "2018-07-25T07:15:41.021366Z",
     "start_time": "2018-07-25T07:15:41.015381Z"
    }
   },
   "outputs": [],
   "source": [
    "exe = fluid.executor.Executor(fluid.CPUPlace())\n",
    "inference_program, feed_names, fetch_list = fluid.io.load_inference_model(\"models/linear\", exe)"
   ]
  },
  {
   "cell_type": "code",
   "execution_count": 6,
   "metadata": {
    "ExecuteTime": {
     "end_time": "2018-07-25T07:15:41.148508Z",
     "start_time": "2018-07-25T07:15:41.025422Z"
    }
   },
   "outputs": [
    {
     "name": "stderr",
     "output_type": "stream",
     "text": [
      "WARNING:root:write block debug graph to infer.pdf\n"
     ]
    }
   ],
   "source": [
    "draw_block_graphviz(inference_program.blocks[0], path=\"infer.pdf\")"
   ]
  },
  {
   "cell_type": "code",
   "execution_count": 7,
   "metadata": {
    "ExecuteTime": {
     "end_time": "2018-07-25T07:15:41.184151Z",
     "start_time": "2018-07-25T07:15:41.153438Z"
    }
   },
   "outputs": [
    {
     "data": {
      "text/plain": [
       "[array([[2052.9038],\n",
       "        [1204.0444],\n",
       "        [1336.1782]], dtype=float32)]"
      ]
     },
     "execution_count": 7,
     "metadata": {},
     "output_type": "execute_result"
    }
   ],
   "source": [
    "exe.run(inference_program, fetch_list=fetch_list, feed={\n",
    "    'x': test_x\n",
    "})"
   ]
  },
  {
   "cell_type": "code",
   "execution_count": null,
   "metadata": {},
   "outputs": [],
   "source": []
  }
 ],
 "metadata": {
  "kernelspec": {
   "display_name": "Python 2",
   "language": "python",
   "name": "python2"
  },
  "language_info": {
   "codemirror_mode": {
    "name": "ipython",
    "version": 2
   },
   "file_extension": ".py",
   "mimetype": "text/x-python",
   "name": "python",
   "nbconvert_exporter": "python",
   "pygments_lexer": "ipython2",
   "version": "2.7.15"
  }
 },
 "nbformat": 4,
 "nbformat_minor": 2
}
