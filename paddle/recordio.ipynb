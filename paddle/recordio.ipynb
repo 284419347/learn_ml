{
 "cells": [
  {
   "cell_type": "markdown",
   "metadata": {},
   "source": [
    "[How to use RecordIO in Fluid](https://github.com/PaddlePaddle/Paddle/blob/25241e9e5e8f691465a9dbdce2aa38344cbd05a0/doc/fluid/howto/cluster/fluid_recordio.md)"
   ]
  },
  {
   "cell_type": "code",
   "execution_count": 1,
   "metadata": {
    "ExecuteTime": {
     "end_time": "2018-08-03T02:43:13.571826Z",
     "start_time": "2018-08-03T02:43:12.798621Z"
    }
   },
   "outputs": [],
   "source": [
    "import paddle.fluid as fluid\n",
    "import paddle\n",
    "import numpy as np"
   ]
  },
  {
   "cell_type": "markdown",
   "metadata": {},
   "source": [
    "## Fixed-Size"
   ]
  },
  {
   "cell_type": "code",
   "execution_count": 2,
   "metadata": {
    "ExecuteTime": {
     "end_time": "2018-08-03T02:43:13.582768Z",
     "start_time": "2018-08-03T02:43:13.575799Z"
    }
   },
   "outputs": [],
   "source": [
    "X = np.random.random((64, 3, 24, 24)).astype('float32')\n",
    "Y = np.random.randint(0, 1, (128, 1)).astype('int64')\n",
    "BATCH_SIZE = 16"
   ]
  },
  {
   "cell_type": "code",
   "execution_count": 3,
   "metadata": {
    "ExecuteTime": {
     "end_time": "2018-08-03T02:43:13.669214Z",
     "start_time": "2018-08-03T02:43:13.586951Z"
    }
   },
   "outputs": [
    {
     "data": {
      "text/plain": [
       "13821.191"
      ]
     },
     "execution_count": 3,
     "metadata": {},
     "output_type": "execute_result"
    }
   ],
   "source": [
    "## Before\n",
    "np.sum(X[:16])"
   ]
  },
  {
   "cell_type": "code",
   "execution_count": 4,
   "metadata": {
    "ExecuteTime": {
     "end_time": "2018-08-03T02:43:13.725356Z",
     "start_time": "2018-08-03T02:43:13.677618Z"
    }
   },
   "outputs": [],
   "source": [
    "def reader_creator():\n",
    "    for i in range(len(X)):\n",
    "        yield X[i], Y[i]\n",
    "reader = reader_creator()"
   ]
  },
  {
   "cell_type": "code",
   "execution_count": 5,
   "metadata": {
    "ExecuteTime": {
     "end_time": "2018-08-03T02:43:13.785072Z",
     "start_time": "2018-08-03T02:43:13.729186Z"
    }
   },
   "outputs": [],
   "source": [
    "batch_reader = paddle.batch(reader_creator, batch_size=1)"
   ]
  },
  {
   "cell_type": "code",
   "execution_count": 6,
   "metadata": {
    "ExecuteTime": {
     "end_time": "2018-08-03T02:43:13.842913Z",
     "start_time": "2018-08-03T02:43:13.792795Z"
    }
   },
   "outputs": [],
   "source": [
    "main_program = fluid.Program()\n",
    "startup_program = fluid.Program()\n",
    "\n",
    "with fluid.program_guard(main_program, startup_program):\n",
    "    img = fluid.layers.data(name=\"image\", shape=[3, 24, 24], dtype='float32')\n",
    "    label = fluid.layers.data(name=\"label\", shape=[1], dtype=\"int64\")\n",
    "    feeder = fluid.DataFeeder(feed_list=[img, label], place=fluid.CPUPlace())"
   ]
  },
  {
   "cell_type": "code",
   "execution_count": 7,
   "metadata": {
    "ExecuteTime": {
     "end_time": "2018-08-03T02:43:13.990782Z",
     "start_time": "2018-08-03T02:43:13.847732Z"
    }
   },
   "outputs": [
    {
     "data": {
      "text/plain": [
       "64"
      ]
     },
     "execution_count": 7,
     "metadata": {},
     "output_type": "execute_result"
    }
   ],
   "source": [
    "fluid.recordio_writer.convert_reader_to_recordio_file(\n",
    "   \"record.recordio\", feeder=feeder, reader_creator=batch_reader)"
   ]
  },
  {
   "cell_type": "code",
   "execution_count": 8,
   "metadata": {
    "ExecuteTime": {
     "end_time": "2018-08-03T02:43:14.214888Z",
     "start_time": "2018-08-03T02:43:13.994562Z"
    }
   },
   "outputs": [
    {
     "name": "stdout",
     "output_type": "stream",
     "text": [
      "440 record.recordio\r\n"
     ]
    }
   ],
   "source": [
    "!ls record.recordio -s"
   ]
  },
  {
   "cell_type": "code",
   "execution_count": 9,
   "metadata": {
    "ExecuteTime": {
     "end_time": "2018-08-03T02:43:14.243762Z",
     "start_time": "2018-08-03T02:43:14.222602Z"
    }
   },
   "outputs": [],
   "source": [
    "main_program = fluid.Program()\n",
    "startup_program = fluid.Program()\n",
    "\n",
    "with fluid.program_guard(main_program, startup_program):\n",
    "    data_file = fluid.layers.open_recordio_file(\n",
    "      filename=\"record.recordio\",\n",
    "      shapes=[[-1, 3, 24, 24], [-1, 1]],\n",
    "      lod_levels=[0, 0],\n",
    "      dtypes=[\"float32\", \"int64\"],\n",
    "      pass_num=100\n",
    "    )\n",
    "    data_file = fluid.layers.io.batch(data_file, batch_size=BATCH_SIZE)\n",
    "    image, label = fluid.layers.read_file(data_file)"
   ]
  },
  {
   "cell_type": "code",
   "execution_count": 10,
   "metadata": {
    "ExecuteTime": {
     "end_time": "2018-08-03T02:43:14.334385Z",
     "start_time": "2018-08-03T02:43:14.248779Z"
    }
   },
   "outputs": [
    {
     "data": {
      "text/plain": [
       "[]"
      ]
     },
     "execution_count": 10,
     "metadata": {},
     "output_type": "execute_result"
    }
   ],
   "source": [
    "exe = fluid.executor.Executor(fluid.CPUPlace())\n",
    "exe.run(startup_program)"
   ]
  },
  {
   "cell_type": "code",
   "execution_count": 11,
   "metadata": {
    "ExecuteTime": {
     "end_time": "2018-08-03T02:43:14.396040Z",
     "start_time": "2018-08-03T02:43:14.341715Z"
    }
   },
   "outputs": [],
   "source": [
    "X, y = exe.run(main_program, fetch_list=[image, label])"
   ]
  },
  {
   "cell_type": "code",
   "execution_count": 12,
   "metadata": {
    "ExecuteTime": {
     "end_time": "2018-08-03T02:43:14.463652Z",
     "start_time": "2018-08-03T02:43:14.403108Z"
    }
   },
   "outputs": [
    {
     "data": {
      "text/plain": [
       "((16, 3, 24, 24), (16, 1))"
      ]
     },
     "execution_count": 12,
     "metadata": {},
     "output_type": "execute_result"
    }
   ],
   "source": [
    "X.shape, y.shape"
   ]
  },
  {
   "cell_type": "code",
   "execution_count": 13,
   "metadata": {
    "ExecuteTime": {
     "end_time": "2018-08-03T02:43:14.519830Z",
     "start_time": "2018-08-03T02:43:14.468320Z"
    }
   },
   "outputs": [
    {
     "data": {
      "text/plain": [
       "13821.191"
      ]
     },
     "execution_count": 13,
     "metadata": {},
     "output_type": "execute_result"
    }
   ],
   "source": [
    "# Same as before\n",
    "np.sum(X)"
   ]
  },
  {
   "cell_type": "markdown",
   "metadata": {
    "ExecuteTime": {
     "end_time": "2018-08-03T02:26:27.393494Z",
     "start_time": "2018-08-03T02:26:27.386637Z"
    }
   },
   "source": [
    "## Dynamic Size"
   ]
  },
  {
   "cell_type": "code",
   "execution_count": 14,
   "metadata": {
    "ExecuteTime": {
     "end_time": "2018-08-03T02:43:14.567037Z",
     "start_time": "2018-08-03T02:43:14.523642Z"
    }
   },
   "outputs": [],
   "source": [
    "def dynamic_creator():\n",
    "    for i in range(1, 128):\n",
    "        X = np.arange(3 * i * i).reshape(3, i, i).astype('float32')\n",
    "        Y = np.random.randint(0, i)\n",
    "        yield X, Y\n",
    "reader = dynamic_creator()"
   ]
  },
  {
   "cell_type": "code",
   "execution_count": 15,
   "metadata": {
    "ExecuteTime": {
     "end_time": "2018-08-03T02:43:14.627010Z",
     "start_time": "2018-08-03T02:43:14.570757Z"
    }
   },
   "outputs": [],
   "source": [
    "batch_reader = paddle.batch(dynamic_creator, batch_size=1)"
   ]
  },
  {
   "cell_type": "code",
   "execution_count": 16,
   "metadata": {
    "ExecuteTime": {
     "end_time": "2018-08-03T02:43:14.685364Z",
     "start_time": "2018-08-03T02:43:14.634211Z"
    }
   },
   "outputs": [],
   "source": [
    "main_program = fluid.Program()\n",
    "startup_program = fluid.Program()\n",
    "\n",
    "with fluid.program_guard(main_program, startup_program):\n",
    "    img = fluid.layers.data(name=\"image\", shape=[3, None, None], dtype='float32')\n",
    "    label = fluid.layers.data(name=\"label\", shape=[1], dtype=\"int64\")\n",
    "    feeder = fluid.DataFeeder(feed_list=[img, label], place=fluid.CPUPlace())"
   ]
  },
  {
   "cell_type": "code",
   "execution_count": 17,
   "metadata": {
    "ExecuteTime": {
     "end_time": "2018-08-03T02:43:14.792430Z",
     "start_time": "2018-08-03T02:43:14.690240Z"
    }
   },
   "outputs": [
    {
     "data": {
      "text/plain": [
       "127"
      ]
     },
     "execution_count": 17,
     "metadata": {},
     "output_type": "execute_result"
    }
   ],
   "source": [
    "fluid.recordio_writer.convert_reader_to_recordio_file(\n",
    "   \"dynamic_record.recordio\", feeder=feeder, reader_creator=batch_reader)"
   ]
  },
  {
   "cell_type": "code",
   "execution_count": 18,
   "metadata": {
    "ExecuteTime": {
     "end_time": "2018-08-03T02:43:14.921641Z",
     "start_time": "2018-08-03T02:43:14.796258Z"
    }
   },
   "outputs": [
    {
     "name": "stdout",
     "output_type": "stream",
     "text": [
      "8020 dynamic_record.recordio\r\n"
     ]
    }
   ],
   "source": [
    "!ls dynamic_record.recordio -s"
   ]
  },
  {
   "cell_type": "code",
   "execution_count": 19,
   "metadata": {
    "ExecuteTime": {
     "end_time": "2018-08-03T02:43:14.952295Z",
     "start_time": "2018-08-03T02:43:14.930016Z"
    }
   },
   "outputs": [],
   "source": [
    "main_program = fluid.Program()\n",
    "startup_program = fluid.Program()\n",
    "\n",
    "with fluid.program_guard(main_program, startup_program):\n",
    "    data_file = fluid.layers.open_recordio_file(\n",
    "      filename=\"dynamic_record.recordio\",\n",
    "      shapes=[[-1, 3, 1, 1], # 1, 1 Doesn't matter\n",
    "              [-1, 1]],\n",
    "      lod_levels=[0, 0],\n",
    "      dtypes=[\"float32\", \"int64\"],\n",
    "      pass_num=100\n",
    "    )\n",
    "    data_file = fluid.layers.io.batch(data_file, batch_size=1) ## Batch size be 1 \n",
    "    image, label = fluid.layers.read_file(data_file)"
   ]
  },
  {
   "cell_type": "code",
   "execution_count": 20,
   "metadata": {
    "ExecuteTime": {
     "end_time": "2018-08-03T02:43:15.011864Z",
     "start_time": "2018-08-03T02:43:14.963224Z"
    }
   },
   "outputs": [
    {
     "data": {
      "text/plain": [
       "[]"
      ]
     },
     "execution_count": 20,
     "metadata": {},
     "output_type": "execute_result"
    }
   ],
   "source": [
    "exe = fluid.executor.Executor(fluid.CPUPlace())\n",
    "exe.run(startup_program)"
   ]
  },
  {
   "cell_type": "code",
   "execution_count": 21,
   "metadata": {
    "ExecuteTime": {
     "end_time": "2018-08-03T02:43:15.097857Z",
     "start_time": "2018-08-03T02:43:15.015793Z"
    }
   },
   "outputs": [
    {
     "data": {
      "text/plain": [
       "[array([[[[0.]],\n",
       " \n",
       "         [[1.]],\n",
       " \n",
       "         [[2.]]]], dtype=float32), array([[0]])]"
      ]
     },
     "execution_count": 21,
     "metadata": {},
     "output_type": "execute_result"
    }
   ],
   "source": [
    "exe.run(main_program, fetch_list=[image, label])"
   ]
  },
  {
   "cell_type": "code",
   "execution_count": 22,
   "metadata": {
    "ExecuteTime": {
     "end_time": "2018-08-03T02:43:15.146473Z",
     "start_time": "2018-08-03T02:43:15.101642Z"
    }
   },
   "outputs": [
    {
     "data": {
      "text/plain": [
       "[array([[[[ 0.,  1.],\n",
       "          [ 2.,  3.]],\n",
       " \n",
       "         [[ 4.,  5.],\n",
       "          [ 6.,  7.]],\n",
       " \n",
       "         [[ 8.,  9.],\n",
       "          [10., 11.]]]], dtype=float32), array([[1]])]"
      ]
     },
     "execution_count": 22,
     "metadata": {},
     "output_type": "execute_result"
    }
   ],
   "source": [
    "exe.run(main_program, fetch_list=[image, label])"
   ]
  },
  {
   "cell_type": "code",
   "execution_count": null,
   "metadata": {},
   "outputs": [],
   "source": []
  }
 ],
 "metadata": {
  "kernelspec": {
   "display_name": "Python 2",
   "language": "python",
   "name": "python2"
  },
  "language_info": {
   "codemirror_mode": {
    "name": "ipython",
    "version": 2
   },
   "file_extension": ".py",
   "mimetype": "text/x-python",
   "name": "python",
   "nbconvert_exporter": "python",
   "pygments_lexer": "ipython2",
   "version": "2.7.15"
  }
 },
 "nbformat": 4,
 "nbformat_minor": 2
}
