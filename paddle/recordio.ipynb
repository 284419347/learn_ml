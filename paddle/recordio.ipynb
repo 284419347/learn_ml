{
 "cells": [
  {
   "cell_type": "markdown",
   "metadata": {},
   "source": [
    "[How to use RecordIO in Fluid](https://github.com/PaddlePaddle/Paddle/blob/25241e9e5e8f691465a9dbdce2aa38344cbd05a0/doc/fluid/howto/cluster/fluid_recordio.md)"
   ]
  },
  {
   "cell_type": "code",
   "execution_count": 1,
   "metadata": {
    "ExecuteTime": {
     "end_time": "2018-07-19T08:19:42.175885Z",
     "start_time": "2018-07-19T08:19:41.413955Z"
    }
   },
   "outputs": [],
   "source": [
    "import paddle.fluid as fluid\n",
    "import paddle\n",
    "import numpy as np"
   ]
  },
  {
   "cell_type": "code",
   "execution_count": 2,
   "metadata": {
    "ExecuteTime": {
     "end_time": "2018-07-19T08:19:42.186869Z",
     "start_time": "2018-07-19T08:19:42.179870Z"
    }
   },
   "outputs": [],
   "source": [
    "X = np.random.random((64, 3, 24, 24)).astype('float32')\n",
    "Y = np.random.randint(0, 1, (128, 1)).astype('int64')\n",
    "BATCH_SIZE = 16"
   ]
  },
  {
   "cell_type": "code",
   "execution_count": 3,
   "metadata": {
    "ExecuteTime": {
     "end_time": "2018-07-19T08:19:42.284431Z",
     "start_time": "2018-07-19T08:19:42.190758Z"
    }
   },
   "outputs": [
    {
     "data": {
      "text/plain": [
       "13827.187"
      ]
     },
     "execution_count": 3,
     "metadata": {},
     "output_type": "execute_result"
    }
   ],
   "source": [
    "np.sum(X[:16])"
   ]
  },
  {
   "cell_type": "code",
   "execution_count": 4,
   "metadata": {
    "ExecuteTime": {
     "end_time": "2018-07-19T08:19:42.358148Z",
     "start_time": "2018-07-19T08:19:42.291436Z"
    }
   },
   "outputs": [],
   "source": [
    "def reader_creator():\n",
    "    for i in range(len(X)):\n",
    "        yield X[i], Y[i]\n",
    "reader = reader_creator()"
   ]
  },
  {
   "cell_type": "code",
   "execution_count": 5,
   "metadata": {
    "ExecuteTime": {
     "end_time": "2018-07-19T08:19:42.444364Z",
     "start_time": "2018-07-19T08:19:42.364792Z"
    }
   },
   "outputs": [],
   "source": [
    "batch_reader = paddle.batch(reader_creator, batch_size=1)"
   ]
  },
  {
   "cell_type": "code",
   "execution_count": 6,
   "metadata": {
    "ExecuteTime": {
     "end_time": "2018-07-19T08:19:42.521737Z",
     "start_time": "2018-07-19T08:19:42.450243Z"
    }
   },
   "outputs": [],
   "source": [
    "main_program = fluid.Program()\n",
    "startup_program = fluid.Program()\n",
    "\n",
    "with fluid.program_guard(main_program, startup_program):\n",
    "    img = fluid.layers.data(name=\"image\", shape=[3, 24, 24], dtype='float32')\n",
    "    label = fluid.layers.data(name=\"label\", shape=[1], dtype=\"int64\")\n",
    "    feeder = fluid.DataFeeder(feed_list=[img, label], place=fluid.CPUPlace())"
   ]
  },
  {
   "cell_type": "code",
   "execution_count": 7,
   "metadata": {
    "ExecuteTime": {
     "end_time": "2018-07-19T08:19:42.685181Z",
     "start_time": "2018-07-19T08:19:42.528518Z"
    }
   },
   "outputs": [
    {
     "data": {
      "text/plain": [
       "64"
      ]
     },
     "execution_count": 7,
     "metadata": {},
     "output_type": "execute_result"
    }
   ],
   "source": [
    "fluid.recordio_writer.convert_reader_to_recordio_file(\n",
    "   \"record.recordio\", feeder=feeder, reader_creator=batch_reader)"
   ]
  },
  {
   "cell_type": "code",
   "execution_count": 8,
   "metadata": {
    "ExecuteTime": {
     "end_time": "2018-07-19T08:19:42.921118Z",
     "start_time": "2018-07-19T08:19:42.690262Z"
    }
   },
   "outputs": [
    {
     "name": "stdout",
     "output_type": "stream",
     "text": [
      "-rw-r--r-- 1 oraoto oraoto 437K Jul 19 16:19 record.recordio\r\n"
     ]
    }
   ],
   "source": [
    "!ls record.recordio -lh"
   ]
  },
  {
   "cell_type": "code",
   "execution_count": 9,
   "metadata": {
    "ExecuteTime": {
     "end_time": "2018-07-19T08:19:42.947112Z",
     "start_time": "2018-07-19T08:19:42.929533Z"
    }
   },
   "outputs": [],
   "source": [
    "data_file = fluid.layers.open_recordio_file(\n",
    "  filename=\"record.recordio\",\n",
    "  shapes=[[-1, 3, 24, 24], [-1, 1]],\n",
    "  lod_levels=[0, 0],\n",
    "  dtypes=[\"float32\", \"int64\"],\n",
    "  pass_num=100\n",
    ")\n",
    "data_file = fluid.layers.io.batch(data_file, batch_size=BATCH_SIZE)\n",
    "image, label = fluid.layers.read_file(data_file)"
   ]
  },
  {
   "cell_type": "code",
   "execution_count": 10,
   "metadata": {
    "ExecuteTime": {
     "end_time": "2018-07-19T08:19:43.036270Z",
     "start_time": "2018-07-19T08:19:42.951711Z"
    }
   },
   "outputs": [
    {
     "data": {
      "text/plain": [
       "[]"
      ]
     },
     "execution_count": 10,
     "metadata": {},
     "output_type": "execute_result"
    }
   ],
   "source": [
    "exe = fluid.executor.Executor(fluid.CPUPlace())\n",
    "exe.run(fluid.default_startup_program())"
   ]
  },
  {
   "cell_type": "code",
   "execution_count": 11,
   "metadata": {
    "ExecuteTime": {
     "end_time": "2018-07-19T08:19:43.094471Z",
     "start_time": "2018-07-19T08:19:43.042986Z"
    }
   },
   "outputs": [],
   "source": [
    "X, y = exe.run(fetch_list=[image, label])"
   ]
  },
  {
   "cell_type": "code",
   "execution_count": 12,
   "metadata": {
    "ExecuteTime": {
     "end_time": "2018-07-19T08:19:43.166983Z",
     "start_time": "2018-07-19T08:19:43.098508Z"
    }
   },
   "outputs": [
    {
     "data": {
      "text/plain": [
       "((16, 3, 24, 24), (16, 1))"
      ]
     },
     "execution_count": 12,
     "metadata": {},
     "output_type": "execute_result"
    }
   ],
   "source": [
    "X.shape, y.shape"
   ]
  },
  {
   "cell_type": "code",
   "execution_count": 13,
   "metadata": {
    "ExecuteTime": {
     "end_time": "2018-07-19T08:19:43.239234Z",
     "start_time": "2018-07-19T08:19:43.173415Z"
    }
   },
   "outputs": [
    {
     "data": {
      "text/plain": [
       "13827.187"
      ]
     },
     "execution_count": 13,
     "metadata": {},
     "output_type": "execute_result"
    }
   ],
   "source": [
    "np.sum(X)"
   ]
  },
  {
   "cell_type": "code",
   "execution_count": null,
   "metadata": {},
   "outputs": [],
   "source": []
  }
 ],
 "metadata": {
  "kernelspec": {
   "display_name": "Python 2",
   "language": "python",
   "name": "python2"
  },
  "language_info": {
   "codemirror_mode": {
    "name": "ipython",
    "version": 2
   },
   "file_extension": ".py",
   "mimetype": "text/x-python",
   "name": "python",
   "nbconvert_exporter": "python",
   "pygments_lexer": "ipython2",
   "version": "2.7.15"
  }
 },
 "nbformat": 4,
 "nbformat_minor": 2
}
