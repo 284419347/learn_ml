{
 "cells": [
  {
   "cell_type": "code",
   "execution_count": 1,
   "metadata": {
    "ExecuteTime": {
     "end_time": "2018-07-25T07:02:43.392366Z",
     "start_time": "2018-07-25T07:02:42.637124Z"
    }
   },
   "outputs": [],
   "source": [
    "import paddle.fluid as fluid\n",
    "import numpy as np\n",
    "from paddle.fluid.debugger import draw_block_graphviz"
   ]
  },
  {
   "cell_type": "code",
   "execution_count": 2,
   "metadata": {
    "ExecuteTime": {
     "end_time": "2018-07-25T07:02:43.411320Z",
     "start_time": "2018-07-25T07:02:43.396362Z"
    }
   },
   "outputs": [
    {
     "data": {
      "text/plain": [
       "array([[0., 1., 2.],\n",
       "       [3., 4., 5.],\n",
       "       [6., 7., 8.]], dtype=float32)"
      ]
     },
     "execution_count": 2,
     "metadata": {},
     "output_type": "execute_result"
    }
   ],
   "source": [
    "test_data = np.arange(9).reshape(3,3).astype('float32')\n",
    "test_data"
   ]
  },
  {
   "cell_type": "markdown",
   "metadata": {},
   "source": [
    "## Create Variable in Program"
   ]
  },
  {
   "cell_type": "code",
   "execution_count": 3,
   "metadata": {
    "ExecuteTime": {
     "end_time": "2018-07-25T07:02:43.471779Z",
     "start_time": "2018-07-25T07:02:43.415303Z"
    }
   },
   "outputs": [],
   "source": [
    "main = fluid.Program()\n",
    "block = main.current_block()"
   ]
  },
  {
   "cell_type": "code",
   "execution_count": 4,
   "metadata": {
    "ExecuteTime": {
     "end_time": "2018-07-25T07:02:43.533157Z",
     "start_time": "2018-07-25T07:02:43.476291Z"
    }
   },
   "outputs": [
    {
     "data": {
      "text/plain": [
       "(name: \"x\"\n",
       " type {\n",
       "   type: LOD_TENSOR\n",
       "   lod_tensor {\n",
       "     tensor {\n",
       "       data_type: FP32\n",
       "       dims: 3\n",
       "       dims: 3\n",
       "     }\n",
       "   }\n",
       " }, paddle.fluid.framework.Variable)"
      ]
     },
     "execution_count": 4,
     "metadata": {},
     "output_type": "execute_result"
    }
   ],
   "source": [
    "x = block.create_var(name=\"x\", shape=[3,3], dtype='float32')\n",
    "x, type(x)"
   ]
  },
  {
   "cell_type": "code",
   "execution_count": 5,
   "metadata": {
    "ExecuteTime": {
     "end_time": "2018-07-25T07:02:43.595669Z",
     "start_time": "2018-07-25T07:02:43.536060Z"
    }
   },
   "outputs": [
    {
     "data": {
      "text/plain": [
       "(name: \"mean_0.tmp_0\"\n",
       " type {\n",
       "   type: LOD_TENSOR\n",
       "   lod_tensor {\n",
       "     tensor {\n",
       "       data_type: FP32\n",
       "       dims: 1\n",
       "     }\n",
       "   }\n",
       " }\n",
       " persistable: false, paddle.fluid.framework.Variable)"
      ]
     },
     "execution_count": 5,
     "metadata": {},
     "output_type": "execute_result"
    }
   ],
   "source": [
    "with fluid.program_guard(main):\n",
    "    y = fluid.layers.ops.mean(x) # Layer会向当前Main program和Starup program插入op\n",
    "y, type(y)"
   ]
  },
  {
   "cell_type": "code",
   "execution_count": 6,
   "metadata": {
    "ExecuteTime": {
     "end_time": "2018-07-25T07:02:43.647869Z",
     "start_time": "2018-07-25T07:02:43.602447Z"
    }
   },
   "outputs": [],
   "source": [
    "exe = fluid.executor.Executor(fluid.CPUPlace())\n",
    "# 这里不需要startup program，因为全部变量都创建了"
   ]
  },
  {
   "cell_type": "code",
   "execution_count": 7,
   "metadata": {
    "ExecuteTime": {
     "end_time": "2018-07-25T07:02:43.771652Z",
     "start_time": "2018-07-25T07:02:43.655067Z"
    }
   },
   "outputs": [
    {
     "data": {
      "text/plain": [
       "[array([4.], dtype=float32)]"
      ]
     },
     "execution_count": 7,
     "metadata": {},
     "output_type": "execute_result"
    }
   ],
   "source": [
    "exe.run(program=main, fetch_list=[y], feed={x.name: test_data})"
   ]
  },
  {
   "cell_type": "code",
   "execution_count": 8,
   "metadata": {
    "ExecuteTime": {
     "end_time": "2018-07-25T07:02:43.864169Z",
     "start_time": "2018-07-25T07:02:43.775486Z"
    }
   },
   "outputs": [
    {
     "name": "stderr",
     "output_type": "stream",
     "text": [
      "WARNING:root:write block debug graph to out.pdf\n"
     ]
    }
   ],
   "source": [
    "draw_block_graphviz(y.block, path=\"out.pdf\")"
   ]
  },
  {
   "cell_type": "markdown",
   "metadata": {
    "ExecuteTime": {
     "end_time": "2018-07-16T02:13:50.249146Z",
     "start_time": "2018-07-16T02:13:50.245393Z"
    }
   },
   "source": [
    "## Create Variable in global block"
   ]
  },
  {
   "cell_type": "code",
   "execution_count": 9,
   "metadata": {
    "ExecuteTime": {
     "end_time": "2018-07-25T07:02:43.923834Z",
     "start_time": "2018-07-25T07:02:43.869177Z"
    }
   },
   "outputs": [],
   "source": [
    "x = fluid.layers.create_global_var(shape=[3,3], value=1.0, dtype='float32')"
   ]
  },
  {
   "cell_type": "code",
   "execution_count": 10,
   "metadata": {
    "ExecuteTime": {
     "end_time": "2018-07-25T07:02:44.004639Z",
     "start_time": "2018-07-25T07:02:43.933673Z"
    }
   },
   "outputs": [],
   "source": [
    "y = fluid.layers.ops.mean(x)"
   ]
  },
  {
   "cell_type": "code",
   "execution_count": 11,
   "metadata": {
    "ExecuteTime": {
     "end_time": "2018-07-25T07:02:44.054659Z",
     "start_time": "2018-07-25T07:02:44.008702Z"
    }
   },
   "outputs": [],
   "source": [
    "exe = fluid.executor.Executor(fluid.CPUPlace())"
   ]
  },
  {
   "cell_type": "code",
   "execution_count": 12,
   "metadata": {
    "ExecuteTime": {
     "end_time": "2018-07-25T07:02:44.115695Z",
     "start_time": "2018-07-25T07:02:44.058901Z"
    }
   },
   "outputs": [
    {
     "data": {
      "text/plain": [
       "[array([4.], dtype=float32)]"
      ]
     },
     "execution_count": 12,
     "metadata": {},
     "output_type": "execute_result"
    }
   ],
   "source": [
    "exe.run(fetch_list=[y], feed={x.name: test_data})"
   ]
  }
 ],
 "metadata": {
  "kernelspec": {
   "display_name": "Python 2",
   "language": "python",
   "name": "python2"
  },
  "language_info": {
   "codemirror_mode": {
    "name": "ipython",
    "version": 2
   },
   "file_extension": ".py",
   "mimetype": "text/x-python",
   "name": "python",
   "nbconvert_exporter": "python",
   "pygments_lexer": "ipython2",
   "version": "2.7.15"
  }
 },
 "nbformat": 4,
 "nbformat_minor": 2
}
